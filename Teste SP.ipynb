{
  "cells": [
    {
      "cell_type": "markdown",
      "metadata": {
        "id": "GZGABXlgwKu7"
      },
      "source": [
        "1) Observe o trecho de código abaixo: int INDICE = 13, SOMA = 0, K = 0;\n",
        "Enquanto K < INDICE faça { K = K + 1; SOMA = SOMA + K; }\n",
        "Imprimir(SOMA);\n",
        "Ao final do processamento, qual será o valor da variável SOMA?\n"
      ]
    },
    {
      "cell_type": "code",
      "execution_count": 1,
      "metadata": {
        "colab": {
          "base_uri": "https://localhost:8080/"
        },
        "id": "QEa41CMkr9Vp",
        "outputId": "3810d479-39ca-4e9d-91f1-0677541eb7ad"
      },
      "outputs": [
        {
          "name": "stdout",
          "output_type": "stream",
          "text": [
            "91\n"
          ]
        }
      ],
      "source": [
        "INDICE = 13\n",
        "SOMA = 0\n",
        "K = 0\n",
        "\n",
        "while K < INDICE:\n",
        "    K = K + 1\n",
        "    SOMA = SOMA + K\n",
        "\n",
        "print(SOMA)\n"
      ]
    },
    {
      "cell_type": "markdown",
      "metadata": {
        "id": "v6_4f1IewI56"
      },
      "source": [
        "2) Dado a sequência de Fibonacci, onde se inicia por 0 e 1 e o próximo valor sempre será a soma dos 2 valores anteriores (exemplo: 0, 1, 1, 2, 3, 5, 8, 13, 21, 34...), escreva um programa na linguagem que desejar onde, informado um número, ele calcule a sequência de Fibonacci e retorne uma mensagem avisando se o número informado pertence ou não a sequência.\n",
        "\n",
        "IMPORTANTE: Esse número pode ser informado através de qualquer entrada de sua preferência ou pode ser previamente definido no código;"
      ]
    },
    {
      "cell_type": "code",
      "execution_count": 2,
      "metadata": {
        "colab": {
          "base_uri": "https://localhost:8080/"
        },
        "id": "YjQIMUcesGlt",
        "outputId": "a9d37b11-7b8a-4756-8d3d-3d494149883d"
      },
      "outputs": [
        {
          "name": "stdout",
          "output_type": "stream",
          "text": [
            "21 pertence à sequência de Fibonacci.\n"
          ]
        }
      ],
      "source": [
        "def is_fibonacci(num):\n",
        "    a, b = 0, 1\n",
        "    while b <= num:\n",
        "        if b == num:\n",
        "            return f\"{num} pertence à sequência de Fibonacci.\"\n",
        "        a, b = b, a + b\n",
        "    return f\"{num} NÃO pertence à sequência de Fibonacci.\"\n",
        "\n",
        "# Exemplo de uso\n",
        "numero_informado = 21  # Troque o número para testar\n",
        "print(is_fibonacci(numero_informado))\n"
      ]
    },
    {
      "cell_type": "markdown",
      "metadata": {
        "id": "RDkhRvxawZ2Z"
      },
      "source": [
        "3) Dado um vetor que guarda o valor de faturamento diário de uma distribuidora, faça um programa, na linguagem que desejar, que calcule e retorne:\n",
        "• O menor valor de faturamento ocorrido em um dia do mês;\n",
        "• O maior valor de faturamento ocorrido em um dia do mês;\n",
        "• Número de dias no mês em que o valor de faturamento diário foi superior à média mensal.\n",
        "\n",
        "IMPORTANTE:\n",
        "a) Usar o json ou xml disponível como fonte dos dados do faturamento mensal;\n",
        "b) Podem existir dias sem faturamento, como nos finais de semana e feriados. Estes dias devem ser ignorados no cálculo da média;"
      ]
    },
    {
      "cell_type": "code",
      "execution_count": 3,
      "metadata": {
        "colab": {
          "base_uri": "https://localhost:8080/"
        },
        "id": "6qVHIptvsPQv",
        "outputId": "858646b7-efec-48fa-b92f-8f6b2c8c205d"
      },
      "outputs": [
        {
          "name": "stdout",
          "output_type": "stream",
          "text": [
            "Menor faturamento: 500\n",
            "Maior faturamento: 4300\n",
            "Dias com faturamento acima da média: 7\n"
          ]
        }
      ],
      "source": [
        "import json\n",
        "\n",
        "# Exemplo de dados de faturamento\n",
        "faturamento_json = '''\n",
        "{\n",
        "    \"faturamento_diario\": [0, 1500, 2400, 0, 3100, 2900, 0, 500, 0, 1000, 0, 4100, 0, 1700, 0, 800, 2600, 0, 0, 3700, 0, 0, 0, 2200, 1500, 0, 0, 4300, 0, 0]\n",
        "}\n",
        "'''\n",
        "\n",
        "# Carregar dados de faturamento\n",
        "faturamento_mensal = json.loads(faturamento_json)[\"faturamento_diario\"]\n",
        "\n",
        "# Remover dias com faturamento zero (finais de semana ou feriados)\n",
        "faturamento_valido = [dia for dia in faturamento_mensal if dia > 0]\n",
        "\n",
        "# Calcular menor, maior e média mensal\n",
        "menor_faturamento = min(faturamento_valido)\n",
        "maior_faturamento = max(faturamento_valido)\n",
        "media_mensal = sum(faturamento_valido) / len(faturamento_valido)\n",
        "\n",
        "# Calcular número de dias acima da média\n",
        "dias_acima_media = len([dia for dia in faturamento_valido if dia > media_mensal])\n",
        "\n",
        "print(f\"Menor faturamento: {menor_faturamento}\")\n",
        "print(f\"Maior faturamento: {maior_faturamento}\")\n",
        "print(f\"Dias com faturamento acima da média: {dias_acima_media}\")\n"
      ]
    },
    {
      "cell_type": "markdown",
      "metadata": {
        "id": "h44H9wbPwjnt"
      },
      "source": [
        "4) Dado o valor de faturamento mensal de uma distribuidora, detalhado por estado:\n",
        "• SP – R$67.836,43\n",
        "• RJ – R$36.678,66\n",
        "• MG – R$29.229,88\n",
        "• ES – R$27.165,48\n",
        "• Outros – R$19.849,53\n",
        "\n",
        "Escreva um programa na linguagem que desejar onde calcule o percentual de representação que cada estado teve dentro do valor total mensal da distribuidora."
      ]
    },
    {
      "cell_type": "code",
      "execution_count": 4,
      "metadata": {
        "colab": {
          "base_uri": "https://localhost:8080/"
        },
        "id": "RIGftOibsUjh",
        "outputId": "fbae4ce4-160a-44fb-bf86-7771256fe2a9"
      },
      "outputs": [
        {
          "name": "stdout",
          "output_type": "stream",
          "text": [
            "SP: 37.53%\n",
            "RJ: 20.29%\n",
            "MG: 16.17%\n",
            "ES: 15.03%\n",
            "Outros: 10.98%\n"
          ]
        }
      ],
      "source": [
        "faturamento_estados = {\n",
        "    \"SP\": 67836.43,\n",
        "    \"RJ\": 36678.66,\n",
        "    \"MG\": 29229.88,\n",
        "    \"ES\": 27165.48,\n",
        "    \"Outros\": 19849.53\n",
        "}\n",
        "\n",
        "# Calcular faturamento total\n",
        "faturamento_total = sum(faturamento_estados.values())\n",
        "\n",
        "# Calcular percentual de representação de cada estado\n",
        "percentual_representacao = {estado: (valor / faturamento_total) * 100 for estado, valor in faturamento_estados.items()}\n",
        "\n",
        "# Exibir resultado\n",
        "for estado, percentual in percentual_representacao.items():\n",
        "    print(f\"{estado}: {percentual:.2f}%\")\n"
      ]
    },
    {
      "cell_type": "markdown",
      "metadata": {
        "id": "GHmFjZVdws5Z"
      },
      "source": [
        "5) Escreva um programa que inverta os caracteres de um string.\n",
        "\n",
        "IMPORTANTE:\n",
        "a) Essa string pode ser informada através de qualquer entrada de sua preferência ou pode ser previamente definida no código;\n",
        "b) Evite usar funções prontas, como, por exemplo, reverse;\n"
      ]
    },
    {
      "cell_type": "code",
      "execution_count": 5,
      "metadata": {
        "colab": {
          "base_uri": "https://localhost:8080/"
        },
        "id": "nGsQoz4-tcrO",
        "outputId": "3f482c59-c86a-482f-e1f7-4c6fe4bb1bd5"
      },
      "outputs": [
        {
          "name": "stdout",
          "output_type": "stream",
          "text": [
            "String original: exemplo de string\n",
            "String invertida: gnirts ed olpmexe\n",
            "String invertida: ailuj e emon uem\n"
          ]
        }
      ],
      "source": [
        "def inverter_string(s):\n",
        "    string_invertida = \"\"\n",
        "    for char in s:\n",
        "        string_invertida = char + string_invertida  # Adiciona cada caractere ao início da nova string\n",
        "    return string_invertida\n",
        "\n",
        "# Entrada definida no código\n",
        "string_original = \"exemplo de string\"\n",
        "print(\"String original:\", string_original)\n",
        "print(\"String invertida:\", inverter_string(string_original))\n",
        "\n",
        "# Ou, se preferir, entrada via teclado\n",
        "string_usuario = input(\"Digite uma string para inverter: \")\n",
        "print(\"String invertida:\", inverter_string(string_usuario))\n"
      ]
    }
  ],
  "metadata": {
    "colab": {
      "name": "Olá, este é o Colaboratory",
      "provenance": [],
      "toc_visible": true
    },
    "kernelspec": {
      "display_name": "Python 3",
      "name": "python3"
    },
    "language_info": {
      "codemirror_mode": {
        "name": "ipython",
        "version": 3
      },
      "file_extension": ".py",
      "mimetype": "text/x-python",
      "name": "python",
      "nbconvert_exporter": "python",
      "pygments_lexer": "ipython3",
      "version": "3.12.4"
    }
  },
  "nbformat": 4,
  "nbformat_minor": 0
}
